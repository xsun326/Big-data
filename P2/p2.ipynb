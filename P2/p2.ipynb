{
 "cells": [
  {
   "cell_type": "code",
   "execution_count": 1,
   "id": "0a4d6c70-a349-49c4-8ab7-a5fdaf54d186",
   "metadata": {},
   "outputs": [],
   "source": [
    "# CS544 p2\n",
    "# Xing Hong xhong37@wisc.edu\n",
    "# Xingke Sun xsun326@wisc.edu"
   ]
  },
  {
   "cell_type": "code",
   "execution_count": 2,
   "id": "07fc0c3f-151d-4da1-8e0a-b5b193a097b7",
   "metadata": {},
   "outputs": [],
   "source": [
    "import pandas as pd\n",
    "import torch"
   ]
  },
  {
   "cell_type": "code",
   "execution_count": 3,
   "id": "0c77f6a6-bb1c-4341-85e8-f274c5a4c047",
   "metadata": {},
   "outputs": [],
   "source": [
    "train_doc = pd.read_csv(\"train.csv\")\n",
    "test_doc = pd.read_csv(\"test.csv\")"
   ]
  },
  {
   "cell_type": "code",
   "execution_count": 4,
   "id": "2935dc6f-42f8-46bc-9362-b0a1bb531e9f",
   "metadata": {},
   "outputs": [],
   "source": [
    "trainX = torch.tensor(train_doc.values[:, :-1], dtype=torch.float64)\n",
    "trainY = torch.tensor(train_doc.values[:, -1:], dtype=torch.float64)\n",
    "testX = torch.tensor(test_doc.values[:, :-1], dtype=torch.float64)\n",
    "testY = torch.tensor(test_doc.values[:, -1:], dtype=torch.float64)"
   ]
  },
  {
   "cell_type": "code",
   "execution_count": 5,
   "id": "ab23b263-c78c-4194-8f76-dbe5c3dadcfb",
   "metadata": {},
   "outputs": [
    {
     "data": {
      "text/plain": [
       "83520"
      ]
     },
     "execution_count": 5,
     "metadata": {},
     "output_type": "execute_result"
    }
   ],
   "source": [
    "#Q1\n",
    "consume_bytes_trainX = trainX.element_size() * trainX.nelement()\n",
    "int(consume_bytes_trainX)"
   ]
  },
  {
   "cell_type": "code",
   "execution_count": 6,
   "id": "c28c6afc-6a2d-47e5-ba77-33c1152d5cec",
   "metadata": {},
   "outputs": [
    {
     "data": {
      "text/plain": [
       "0.0"
      ]
     },
     "execution_count": 6,
     "metadata": {},
     "output_type": "execute_result"
    }
   ],
   "source": [
    "#Q2\n",
    "trainX_initial_float16 = trainX.to(dtype=torch.float16)\n",
    "trainX_change_float64 = trainX_initial_float16.to(dtype=torch.float64)\n",
    "biggest_diff = (trainX_initial_float16 - trainX_change_float64).abs().max().item()\n",
    "biggest_diff"
   ]
  },
  {
   "cell_type": "code",
   "execution_count": 7,
   "id": "63d3b479-16ad-44ee-abad-a58a52ab67f0",
   "metadata": {},
   "outputs": [
    {
     "data": {
      "text/plain": [
       "False"
      ]
     },
     "execution_count": 7,
     "metadata": {},
     "output_type": "execute_result"
    }
   ],
   "source": [
    "#Q3\n",
    "c_available = torch.cuda.is_available()\n",
    "c_available"
   ]
  },
  {
   "cell_type": "code",
   "execution_count": 8,
   "id": "2ad1bc03-7819-4d1e-b1e6-fe91b72e0623",
   "metadata": {},
   "outputs": [
    {
     "data": {
      "text/plain": [
       "tensor([[0.0040],\n",
       "        [0.0040],\n",
       "        [0.0040],\n",
       "        [0.0040],\n",
       "        [0.0040],\n",
       "        [0.0040],\n",
       "        [0.0300],\n",
       "        [0.0300],\n",
       "        [0.0300],\n",
       "        [0.0300]], dtype=torch.float64)"
      ]
     },
     "execution_count": 8,
     "metadata": {},
     "output_type": "execute_result"
    }
   ],
   "source": [
    "coef = torch.tensor([\n",
    "        [0.0040],\n",
    "        [0.0040],\n",
    "        [0.0040],\n",
    "        [0.0040],\n",
    "        [0.0040],\n",
    "        [0.0040], # POS_50_59_CP\n",
    "        [0.0300], # POS_60_69_CP\n",
    "        [0.0300],\n",
    "        [0.0300],\n",
    "        [0.0300]\n",
    "], dtype=trainX.dtype)\n",
    "coef"
   ]
  },
  {
   "cell_type": "code",
   "execution_count": 9,
   "id": "0fa23943-aa15-49d8-9411-756a23c2577d",
   "metadata": {},
   "outputs": [
    {
     "data": {
      "text/plain": [
       "9.844"
      ]
     },
     "execution_count": 9,
     "metadata": {},
     "output_type": "execute_result"
    }
   ],
   "source": [
    "#Q4\n",
    "first_number_tract_predict = (testX[0] @ coef).item()\n",
    "first_number_tract_predict"
   ]
  },
  {
   "cell_type": "code",
   "execution_count": 10,
   "id": "772ea70a-082a-4f00-91a6-c79afceb6757",
   "metadata": {},
   "outputs": [
    {
     "data": {
      "text/plain": [
       "12.073632183908048"
      ]
     },
     "execution_count": 10,
     "metadata": {},
     "output_type": "execute_result"
    }
   ],
   "source": [
    "#Q5\n",
    "average_predict_number = (testX @ coef).mean().item()\n",
    "average_predict_number"
   ]
  },
  {
   "cell_type": "code",
   "execution_count": 11,
   "id": "2487d47b-a786-4c70-a614-b5472df5d466",
   "metadata": {},
   "outputs": [
    {
     "data": {
      "text/plain": [
       "19.0"
      ]
     },
     "execution_count": 11,
     "metadata": {},
     "output_type": "execute_result"
    }
   ],
   "source": [
    "#Q6\n",
    "x = torch.tensor(0.0, requires_grad=True)\n",
    "y = x**2 - 8*x +19\n",
    "y.item()"
   ]
  },
  {
   "cell_type": "code",
   "execution_count": 12,
   "id": "21790dea-551a-471a-adf8-4232a8eece25",
   "metadata": {},
   "outputs": [
    {
     "data": {
      "text/plain": [
       "3.999999523162842"
      ]
     },
     "execution_count": 12,
     "metadata": {},
     "output_type": "execute_result"
    }
   ],
   "source": [
    "#Q7\n",
    "optimizer = torch.optim.SGD([x], lr=0.1)\n",
    "for n in range(100):\n",
    "    y = x**2 - 8*x +19\n",
    "    y.backward()\n",
    "    optimizer.step()\n",
    "    optimizer.zero_grad()\n",
    "x.item()"
   ]
  },
  {
   "cell_type": "code",
   "execution_count": 13,
   "id": "0d4ba1c9-4ee3-4825-9d70-4ea1c23f7d69",
   "metadata": {},
   "outputs": [
    {
     "data": {
      "text/plain": [
       "197.8007662835249"
      ]
     },
     "execution_count": 13,
     "metadata": {},
     "output_type": "execute_result"
    }
   ],
   "source": [
    "#Q8\n",
    "coef = torch.zeros((trainX.shape[1], 1), dtype = torch.float64, requires_grad=True)\n",
    "\n",
    "prediction_mse = trainX @ coef\n",
    "MSE = (((prediction_mse - trainY)**2).sum()/ trainY.shape[0]).item()\n",
    "MSE"
   ]
  },
  {
   "cell_type": "code",
   "execution_count": 14,
   "id": "088fc2b5-ffb4-4a32-8945-7857cb762b53",
   "metadata": {},
   "outputs": [
    {
     "data": {
      "text/plain": [
       "26.8113940147193"
      ]
     },
     "execution_count": 14,
     "metadata": {},
     "output_type": "execute_result"
    }
   ],
   "source": [
    "#Q9\n",
    "torch.manual_seed(544)\n",
    "ds = torch.utils.data.TensorDataset(trainX, trainY)\n",
    "dl = torch.utils.data.DataLoader(ds, batch_size=50, shuffle=True)\n",
    "\n",
    "loss_function = torch.nn.MSELoss()\n",
    "optimizer  = torch.optim.SGD([coef],lr = 0.000002)\n",
    "\n",
    "for n in range(500):\n",
    "    for X,Y in dl:\n",
    "        prediction = X @ coef\n",
    "        loss = loss_function(prediction, Y)\n",
    "        loss.backward()\n",
    "        optimizer.step()\n",
    "        optimizer.zero_grad()\n",
    "\n",
    "prediction_training = trainX @ coef\n",
    "prediction_training_MSE = loss_function(prediction_training,trainY).item()\n",
    "prediction_training_MSE"
   ]
  },
  {
   "cell_type": "code",
   "execution_count": 15,
   "id": "f9e71107-bfd2-465a-9eb3-e2a1c58e3592",
   "metadata": {},
   "outputs": [
    {
     "data": {
      "text/plain": [
       "29.05854692548551"
      ]
     },
     "execution_count": 15,
     "metadata": {},
     "output_type": "execute_result"
    }
   ],
   "source": [
    "#Q10\n",
    "prediction_over_test = testX @ coef\n",
    "MSE_over_test = loss_function(prediction_over_test,testY).item()\n",
    "MSE_over_test"
   ]
  },
  {
   "cell_type": "code",
   "execution_count": null,
   "id": "c8f986f9-25f9-408d-90b0-06ecbdac23e2",
   "metadata": {},
   "outputs": [],
   "source": []
  }
 ],
 "metadata": {
  "kernelspec": {
   "display_name": "Python 3 (ipykernel)",
   "language": "python",
   "name": "python3"
  },
  "language_info": {
   "codemirror_mode": {
    "name": "ipython",
    "version": 3
   },
   "file_extension": ".py",
   "mimetype": "text/x-python",
   "name": "python",
   "nbconvert_exporter": "python",
   "pygments_lexer": "ipython3",
   "version": "3.11.6"
  }
 },
 "nbformat": 4,
 "nbformat_minor": 5
}
