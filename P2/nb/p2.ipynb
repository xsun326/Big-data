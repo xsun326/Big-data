{
 "cells": [
  {
   "cell_type": "code",
   "execution_count": 1,
   "id": "0a4d6c70-a349-49c4-8ab7-a5fdaf54d186",
   "metadata": {},
   "outputs": [],
   "source": [
    "# Xing Hong xhong37@wisc.edu\n",
    "# Xingke Sun xsun326@wisc.edu"
   ]
  },
  {
   "cell_type": "code",
   "execution_count": 2,
   "id": "07fc0c3f-151d-4da1-8e0a-b5b193a097b7",
   "metadata": {},
   "outputs": [],
   "source": [
    "import pandas as pd\n",
    "import torch"
   ]
  },
  {
   "cell_type": "code",
   "execution_count": 3,
   "id": "aa64cef2-533c-4f42-8510-595a6eb0d0ab",
   "metadata": {},
   "outputs": [
    {
     "data": {
      "text/plain": [
       "<function pandas.io.parsers.readers.read_csv(filepath_or_buffer: 'FilePath | ReadCsvBuffer[bytes] | ReadCsvBuffer[str]', *, sep: 'str | None | lib.NoDefault' = <no_default>, delimiter: 'str | None | lib.NoDefault' = None, header: \"int | Sequence[int] | None | Literal['infer']\" = 'infer', names: 'Sequence[Hashable] | None | lib.NoDefault' = <no_default>, index_col: 'IndexLabel | Literal[False] | None' = None, usecols: 'list[HashableT] | Callable[[Hashable], bool] | None' = None, dtype: 'DtypeArg | None' = None, engine: 'CSVEngine | None' = None, converters: 'Mapping[Hashable, Callable] | None' = None, true_values: 'list | None' = None, false_values: 'list | None' = None, skipinitialspace: 'bool' = False, skiprows: 'list[int] | int | Callable[[Hashable], bool] | None' = None, skipfooter: 'int' = 0, nrows: 'int | None' = None, na_values: 'Sequence[str] | Mapping[str, Sequence[str]] | None' = None, keep_default_na: 'bool' = True, na_filter: 'bool' = True, verbose: 'bool' = False, skip_blank_lines: 'bool' = True, parse_dates: 'bool | Sequence[Hashable] | None' = None, infer_datetime_format: 'bool | lib.NoDefault' = <no_default>, keep_date_col: 'bool' = False, date_parser: 'Callable | lib.NoDefault' = <no_default>, date_format: 'str | None' = None, dayfirst: 'bool' = False, cache_dates: 'bool' = True, iterator: 'bool' = False, chunksize: 'int | None' = None, compression: 'CompressionOptions' = 'infer', thousands: 'str | None' = None, decimal: 'str' = '.', lineterminator: 'str | None' = None, quotechar: 'str' = '\"', quoting: 'int' = 0, doublequote: 'bool' = True, escapechar: 'str | None' = None, comment: 'str | None' = None, encoding: 'str | None' = None, encoding_errors: 'str | None' = 'strict', dialect: 'str | csv.Dialect | None' = None, on_bad_lines: 'str' = 'error', delim_whitespace: 'bool' = False, low_memory: 'bool' = True, memory_map: 'bool' = False, float_precision: \"Literal['high', 'legacy'] | None\" = None, storage_options: 'StorageOptions | None' = None, dtype_backend: 'DtypeBackend | lib.NoDefault' = <no_default>) -> 'DataFrame | TextFileReader'>"
      ]
     },
     "execution_count": 3,
     "metadata": {},
     "output_type": "execute_result"
    }
   ],
   "source": [
    "pd.read_csv"
   ]
  },
  {
   "cell_type": "code",
   "execution_count": 4,
   "id": "0c77f6a6-bb1c-4341-85e8-f274c5a4c047",
   "metadata": {},
   "outputs": [],
   "source": [
    "train = pd.read_csv(\"train.csv\")\n",
    "test = pd.read_csv(\"test.csv\")\n",
    "train = train.values\n",
    "test = test.values\n",
    "trainX = torch.tensor(train[:, :-1], dtype=torch.float64)\n",
    "trainY = torch.tensor(train[:, -1:], dtype=torch.float64)\n",
    "\n",
    "testX = torch.tensor(test[:, :-1], dtype=torch.float64)\n",
    "testY = torch.tensor(test[:, -1:], dtype=torch.float64)"
   ]
  },
  {
   "cell_type": "code",
   "execution_count": 5,
   "id": "ab23b263-c78c-4194-8f76-dbe5c3dadcfb",
   "metadata": {},
   "outputs": [
    {
     "data": {
      "text/plain": [
       "83520"
      ]
     },
     "execution_count": 5,
     "metadata": {},
     "output_type": "execute_result"
    }
   ],
   "source": [
    "#Q1\n",
    "trainX_bytes = trainX.shape[0] * trainX.shape[1] * 64 / 8\n",
    "int(trainX_bytes)"
   ]
  },
  {
   "cell_type": "code",
   "execution_count": 6,
   "id": "c28c6afc-6a2d-47e5-ba77-33c1152d5cec",
   "metadata": {},
   "outputs": [
    {
     "data": {
      "text/plain": [
       "0.0"
      ]
     },
     "execution_count": 6,
     "metadata": {},
     "output_type": "execute_result"
    }
   ],
   "source": [
    "#Q2\n",
    "trainX_float16 = trainX.to(dtype=torch.float16)\n",
    "trainX_float64 = trainX_float16.to(dtype=torch.float64)\n",
    "diff = trainX - trainX_float64\n",
    "diff = torch.abs(diff)\n",
    "max_diff = diff.max()\n",
    "float(max_diff)"
   ]
  },
  {
   "cell_type": "code",
   "execution_count": 7,
   "id": "63d3b479-16ad-44ee-abad-a58a52ab67f0",
   "metadata": {},
   "outputs": [
    {
     "data": {
      "text/plain": [
       "False"
      ]
     },
     "execution_count": 7,
     "metadata": {},
     "output_type": "execute_result"
    }
   ],
   "source": [
    "#Q3\n",
    "torch.cuda.is_available()"
   ]
  },
  {
   "cell_type": "code",
   "execution_count": 8,
   "id": "2ad1bc03-7819-4d1e-b1e6-fe91b72e0623",
   "metadata": {},
   "outputs": [
    {
     "data": {
      "text/plain": [
       "tensor([[0.0040],\n",
       "        [0.0040],\n",
       "        [0.0040],\n",
       "        [0.0040],\n",
       "        [0.0040],\n",
       "        [0.0040],\n",
       "        [0.0300],\n",
       "        [0.0300],\n",
       "        [0.0300],\n",
       "        [0.0300]], dtype=torch.float64)"
      ]
     },
     "execution_count": 8,
     "metadata": {},
     "output_type": "execute_result"
    }
   ],
   "source": [
    "coef = torch.tensor([\n",
    "        [0.0040],\n",
    "        [0.0040],\n",
    "        [0.0040],\n",
    "        [0.0040],\n",
    "        [0.0040],\n",
    "        [0.0040], # POS_50_59_CP\n",
    "        [0.0300], # POS_60_69_CP\n",
    "        [0.0300],\n",
    "        [0.0300],\n",
    "        [0.0300]\n",
    "], dtype=trainX.dtype)\n",
    "coef"
   ]
  },
  {
   "cell_type": "code",
   "execution_count": 9,
   "id": "0fa23943-aa15-49d8-9411-756a23c2577d",
   "metadata": {},
   "outputs": [
    {
     "data": {
      "text/plain": [
       "9.844"
      ]
     },
     "execution_count": 9,
     "metadata": {},
     "output_type": "execute_result"
    }
   ],
   "source": [
    "#Q4\n",
    "first_predict = testX[0] @ coef\n",
    "first_predict.item()"
   ]
  },
  {
   "cell_type": "code",
   "execution_count": 10,
   "id": "772ea70a-082a-4f00-91a6-c79afceb6757",
   "metadata": {},
   "outputs": [
    {
     "data": {
      "text/plain": [
       "12.073632183908048"
      ]
     },
     "execution_count": 10,
     "metadata": {},
     "output_type": "execute_result"
    }
   ],
   "source": [
    "#Q5\n",
    "testX_pred = testX @ coef\n",
    "mean_testX_pred = torch.mean(testX_pred)\n",
    "mean_testX_pred.item()"
   ]
  },
  {
   "cell_type": "code",
   "execution_count": 11,
   "id": "2487d47b-a786-4c70-a614-b5472df5d466",
   "metadata": {},
   "outputs": [
    {
     "data": {
      "text/plain": [
       "19.0"
      ]
     },
     "execution_count": 11,
     "metadata": {},
     "output_type": "execute_result"
    }
   ],
   "source": [
    "#Q6\n",
    "def f(x):\n",
    "    return x ** 2 - 8 * x + 19\n",
    "x = torch.tensor(0.0, requires_grad=True)\n",
    "y = f(x)\n",
    "float(y)"
   ]
  },
  {
   "cell_type": "code",
   "execution_count": 12,
   "id": "21790dea-551a-471a-adf8-4232a8eece25",
   "metadata": {},
   "outputs": [
    {
     "data": {
      "text/plain": [
       "3.999999523162842"
      ]
     },
     "execution_count": 12,
     "metadata": {},
     "output_type": "execute_result"
    }
   ],
   "source": [
    "#Q7\n",
    "optimizer = torch.optim.SGD([x], lr=0.1)\n",
    "for epoch in range(100):\n",
    "    y = f(x)\n",
    "    y.backward()\n",
    "    optimizer.step()\n",
    "    optimizer.zero_grad()\n",
    "\n",
    "x.item()"
   ]
  },
  {
   "cell_type": "code",
   "execution_count": 13,
   "id": "0d4ba1c9-4ee3-4825-9d70-4ea1c23f7d69",
   "metadata": {},
   "outputs": [
    {
     "data": {
      "text/plain": [
       "197.8007662835249"
      ]
     },
     "execution_count": 13,
     "metadata": {},
     "output_type": "execute_result"
    }
   ],
   "source": [
    "#Q8\n",
    "coef = torch.zeros((10, 1), dtype = torch.float64, requires_grad=True)\n",
    "\n",
    "X_hat = trainX @ coef\n",
    "SE = (X_hat - trainY)**2\n",
    "MSE = SE.sum()/ trainY.shape[0]\n",
    "MSE.item()"
   ]
  },
  {
   "cell_type": "code",
   "execution_count": 14,
   "id": "088fc2b5-ffb4-4a32-8945-7857cb762b53",
   "metadata": {},
   "outputs": [
    {
     "data": {
      "text/plain": [
       "26.8113940147193"
      ]
     },
     "execution_count": 14,
     "metadata": {},
     "output_type": "execute_result"
    }
   ],
   "source": [
    "#Q9\n",
    "torch.manual_seed(544)\n",
    "ds = torch.utils.data.TensorDataset(trainX, trainY)\n",
    "dl = torch.utils.data.DataLoader(ds, batch_size=50, shuffle=True)\n",
    "f_loss = torch.nn.MSELoss()\n",
    "optim  = torch.optim.SGD([coef],lr = 0.000002)\n",
    "\n",
    "for i in range(500):\n",
    "    for X,y in dl:\n",
    "        pred = X @ coef\n",
    "        loss = f_loss(pred, y)\n",
    "        loss.backward()\n",
    "        optim.step()\n",
    "        optim.zero_grad()\n",
    "\n",
    "\n",
    "X_hat = trainX @ coef\n",
    "SE = (X_hat - trainY)**2\n",
    "MSE = SE.sum()/ trainY.shape[0]\n",
    "MSE.item()"
   ]
  },
  {
   "cell_type": "code",
   "execution_count": 15,
   "id": "f9e71107-bfd2-465a-9eb3-e2a1c58e3592",
   "metadata": {},
   "outputs": [
    {
     "data": {
      "text/plain": [
       "29.05854692548551"
      ]
     },
     "execution_count": 15,
     "metadata": {},
     "output_type": "execute_result"
    }
   ],
   "source": [
    "#Q10\n",
    "X_hat = testX @ coef\n",
    "SE = (X_hat - testY)**2\n",
    "MSE = SE.sum()/ testY.shape[0]\n",
    "MSE.item()"
   ]
  },
  {
   "cell_type": "code",
   "execution_count": null,
   "id": "c8f986f9-25f9-408d-90b0-06ecbdac23e2",
   "metadata": {},
   "outputs": [],
   "source": []
  }
 ],
 "metadata": {
  "kernelspec": {
   "display_name": "Python 3 (ipykernel)",
   "language": "python",
   "name": "python3"
  },
  "language_info": {
   "codemirror_mode": {
    "name": "ipython",
    "version": 3
   },
   "file_extension": ".py",
   "mimetype": "text/x-python",
   "name": "python",
   "nbconvert_exporter": "python",
   "pygments_lexer": "ipython3",
   "version": "3.11.6"
  }
 },
 "nbformat": 4,
 "nbformat_minor": 5
}
